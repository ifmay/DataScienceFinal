{
 "cells": [
  {
   "cell_type": "markdown",
   "metadata": {},
   "source": [
    "# Project Name\n",
    "\n",
    "## Izzy May and Drew Fitzpatrick"
   ]
  },
  {
   "cell_type": "markdown",
   "metadata": {},
   "source": [
    "### Dataset Description\n",
    "\n",
    "1. Source, format, and contents\n",
    "\n",
    "2. description"
   ]
  },
  {
   "cell_type": "markdown",
   "metadata": {},
   "source": [
    "### Implementation/technical merit\n",
    "\n",
    "1. Anticipated challenges\n",
    "\n",
    "2. If the number of attributes is large"
   ]
  },
  {
   "cell_type": "markdown",
   "metadata": {},
   "source": [
    "### Potential impact of the results\n",
    "\n",
    "1. Why are these results useful?\n",
    "\n",
    "2. who are stakeholders?"
   ]
  }
 ],
 "metadata": {
  "language_info": {
   "name": "python"
  }
 },
 "nbformat": 4,
 "nbformat_minor": 2
}
