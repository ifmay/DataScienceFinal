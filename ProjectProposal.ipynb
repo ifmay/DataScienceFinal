{
 "cells": [
  {
   "cell_type": "markdown",
   "metadata": {},
   "source": [
    "# Project Name\n",
    "\n",
    "## Izzy May and Drew Fitzpatrick"
   ]
  },
  {
   "cell_type": "markdown",
   "metadata": {},
   "source": [
    "### Dataset Description\n",
    "\n",
    "1. Our dataset is from Kaggle. It is a csv file containing flight information, such as departure/arrival times.\n",
    "\n",
    "2. The flights.csv dataset includes attributes such as departure/arrival times, airline, origin, destination, the time spent in the air, and the date."
   ]
  },
  {
   "cell_type": "markdown",
   "metadata": {},
   "source": [
    "### Implementation/technical merit\n",
    "\n",
    "1. Anticipated challenges\n",
    "\n",
    "2. If the number of attributes is large"
   ]
  },
  {
   "cell_type": "markdown",
   "metadata": {},
   "source": [
    "### Potential impact of the results\n",
    "\n",
    "1. Why are these results useful?\n",
    "\n",
    "2. who are stakeholders?"
   ]
  }
 ],
 "metadata": {
  "language_info": {
   "name": "python"
  }
 },
 "nbformat": 4,
 "nbformat_minor": 2
}
