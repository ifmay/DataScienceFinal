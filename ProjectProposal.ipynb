{
 "cells": [
  {
   "cell_type": "markdown",
   "metadata": {},
   "source": [
    "# Project Name\n",
    "\n",
    "## Izzy May and Drew Fitzpatrick"
   ]
  },
  {
   "cell_type": "markdown",
   "metadata": {},
   "source": [
    "### Dataset Description\n",
    "\n",
    "1. Our dataset is from [Kaggle](#https://www.kaggle.com/code/farzadnekouei/flight-data-eda-to-preprocessing). It is a csv file containing flight information, such as departure/arrival times.\n",
    "\n",
    "\n",
    "2. The flights.csv dataset includes attributes such as departure/arrival times, airline, origin, destination, the time spent in the air, and the date."
   ]
  },
  {
   "cell_type": "markdown",
   "metadata": {},
   "source": [
    "### Implementation/technical merit\n",
    "\n",
    "1. Anticipated challenges: We anticipate potential challenges in figuring out the ranges we will use to predict delays as well as finding patterns across the delayed flights\n",
    "\n",
    "2. Since the number of attributes is large, we plan on using information gain by identifying target value and measuring reduction in the entropy values. We also plan on manually identifying possible redundant or irrelevant attributes."
   ]
  },
  {
   "cell_type": "markdown",
   "metadata": {},
   "source": [
    "### Potential impact of the results\n",
    "\n",
    "1. These results are useful for informing people of potential delay risks so that they can plan accordingly. It will also help airports be able to better anticipate potential delays.\n",
    "\n",
    "2. Our stakeholders are travelers, airlines, and airports worldwide."
   ]
  },
  {
   "cell_type": "code",
   "execution_count": 1,
   "metadata": {},
   "outputs": [
    {
     "name": "stdout",
     "output_type": "stream",
     "text": [
      "Flight Delay Categories:\n",
      "On Time: 200089\n",
      "0-30 mins: 80141\n",
      "30 mins - 1 hour: 21710\n",
      "1-2 hours: 16858\n",
      "2-3 hours: 5830\n",
      "3-4 hours: 2369\n",
      "Over 4 hours: 1524\n"
     ]
    }
   ],
   "source": [
    "import pandas as pd\n",
    "\n",
    "def categorize_flight_delays(file_path):\n",
    "    \"\"\"\n",
    "    Categorizes flight delays into specified time intervals and prints statistics.\n",
    "    \n",
    "    Parameters:\n",
    "        file_path (str): The path to the flights.csv file.\n",
    "    \"\"\"\n",
    "    # Load the CSV file into a Pandas DataFrame\n",
    "    flights = pd.read_csv(file_path)\n",
    "    \n",
    "    # Ensure the 'dep_delay' column is numeric\n",
    "    flights['dep_delay'] = pd.to_numeric(flights['dep_delay'], errors='coerce')\n",
    "    \n",
    "    # Remove rows with missing 'dep_delay' values\n",
    "    flights = flights.dropna(subset=['dep_delay'])\n",
    "    \n",
    "    # Categorize delays\n",
    "    delay_intervals = {\n",
    "        \"On Time\": flights['dep_delay'] <= 0,\n",
    "        \"0-30 mins\": (flights['dep_delay'] > 0) & (flights['dep_delay'] <= 30),\n",
    "        \"30 mins - 1 hour\": (flights['dep_delay'] > 30) & (flights['dep_delay'] <= 60),\n",
    "        \"1-2 hours\": (flights['dep_delay'] > 60) & (flights['dep_delay'] <= 120),\n",
    "        \"2-3 hours\": (flights['dep_delay'] > 120) & (flights['dep_delay'] <= 180),\n",
    "        \"3-4 hours\": (flights['dep_delay'] > 180) & (flights['dep_delay'] <= 240),\n",
    "        \"Over 4 hours\": flights['dep_delay'] > 240\n",
    "    }\n",
    "    \n",
    "    # Count occurrences in each category\n",
    "    counts = {category: flights[condition].shape[0] for category, condition in delay_intervals.items()}\n",
    "    \n",
    "    # Print the results\n",
    "    print(\"Flight Delay Categories:\")\n",
    "    for category, count in counts.items():\n",
    "        print(f\"{category}: {count}\")\n",
    "\n",
    "# Usage\n",
    "file_path = \"flights.csv\"  # Replace with the path to your CSV file\n",
    "categorize_flight_delays(file_path)\n"
   ]
  }
 ],
 "metadata": {
  "kernelspec": {
   "display_name": "base",
   "language": "python",
   "name": "python3"
  },
  "language_info": {
   "codemirror_mode": {
    "name": "ipython",
    "version": 3
   },
   "file_extension": ".py",
   "mimetype": "text/x-python",
   "name": "python",
   "nbconvert_exporter": "python",
   "pygments_lexer": "ipython3",
   "version": "3.11.4"
  }
 },
 "nbformat": 4,
 "nbformat_minor": 2
}
