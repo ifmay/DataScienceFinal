{
 "cells": [
  {
   "cell_type": "markdown",
   "metadata": {},
   "source": [
    "# Project Name\n",
    "\n",
    "## Izzy May and Drew Fitzpatrick"
   ]
  },
  {
   "cell_type": "markdown",
   "metadata": {},
   "source": [
    "### Dataset Description\n",
    "\n",
    "1. Our dataset is from [Kaggle](#https://www.kaggle.com/code/farzadnekouei/flight-data-eda-to-preprocessing). It is a csv file containing flight information, such as departure/arrival times.\n",
    "\n",
    "\n",
    "2. The flights.csv dataset includes attributes such as departure/arrival times, airline, origin, destination, the time spent in the air, and the date."
   ]
  },
  {
   "cell_type": "markdown",
   "metadata": {},
   "source": [
    "### Implementation/technical merit\n",
    "\n",
    "1. Anticipated challenges: We anticipate potential challenges in figuring out the ranges we will use to predict delays as well as finding patterns across the delayed flights\n",
    "\n",
    "2. Since the number of attributes is large, we plan on using information gain by identifying target value and measuring reduction in the entropy values. We also plan on manually identifying possible redundant or irrelevant attributes."
   ]
  },
  {
   "cell_type": "markdown",
   "metadata": {},
   "source": [
    "### Potential impact of the results\n",
    "\n",
    "1. These results are useful for informing people of potential delay risks so that they can plan accordingly. It will also help airports be able to better anticipate potential delays.\n",
    "\n",
    "2. Our stakeholders are travelers, airlines, and airports worldwide."
   ]
  }
 ],
 "metadata": {
  "kernelspec": {
   "display_name": "base",
   "language": "python",
   "name": "python3"
  },
  "language_info": {
   "codemirror_mode": {
    "name": "ipython",
    "version": 3
   },
   "file_extension": ".py",
   "mimetype": "text/x-python",
   "name": "python",
   "nbconvert_exporter": "python",
   "pygments_lexer": "ipython3",
   "version": "3.11.4"
  }
 },
 "nbformat": 4,
 "nbformat_minor": 2
}
